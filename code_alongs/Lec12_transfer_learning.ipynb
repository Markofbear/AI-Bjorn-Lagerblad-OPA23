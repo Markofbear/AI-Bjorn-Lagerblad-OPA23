{
 "cells": [
  {
   "cell_type": "code",
   "execution_count": 2,
   "metadata": {},
   "outputs": [
    {
     "name": "stderr",
     "output_type": "stream",
     "text": [
      "c:\\Users\\lager\\Desktop\\Github\\AI-Bjorn-Lagerblad-OPA23\\venv\\Lib\\site-packages\\tqdm\\auto.py:21: TqdmWarning: IProgress not found. Please update jupyter and ipywidgets. See https://ipywidgets.readthedocs.io/en/stable/user_install.html\n",
      "  from .autonotebook import tqdm as notebook_tqdm\n"
     ]
    },
    {
     "name": "stdout",
     "output_type": "stream",
     "text": [
      "\u001b[1mDownloading and preparing dataset Unknown size (download: Unknown size, generated: Unknown size, total: Unknown size) to C:\\Users\\lager\\tensorflow_datasets\\tf_flowers\\3.0.1...\u001b[0m\n"
     ]
    },
    {
     "name": "stderr",
     "output_type": "stream",
     "text": [
      "Dl Size...: 100%|██████████| 218/218 [00:26<00:00,  8.24 MiB/s]]\n",
      "Dl Completed...: 100%|██████████| 1/1 [00:26<00:00, 26.44s/ url]\n",
      "                                                                        \r"
     ]
    },
    {
     "name": "stdout",
     "output_type": "stream",
     "text": [
      "\u001b[1mDataset tf_flowers downloaded and prepared to C:\\Users\\lager\\tensorflow_datasets\\tf_flowers\\3.0.1. Subsequent calls will reuse this data.\u001b[0m\n"
     ]
    },
    {
     "data": {
      "text/plain": [
       "tfds.core.DatasetInfo(\n",
       "    name='tf_flowers',\n",
       "    full_name='tf_flowers/3.0.1',\n",
       "    description=\"\"\"\n",
       "    A large set of images of flowers\n",
       "    \"\"\",\n",
       "    homepage='https://www.tensorflow.org/tutorials/load_data/images',\n",
       "    data_dir='C:\\\\Users\\\\lager\\\\tensorflow_datasets\\\\tf_flowers\\\\3.0.1',\n",
       "    file_format=tfrecord,\n",
       "    download_size=218.21 MiB,\n",
       "    dataset_size=221.83 MiB,\n",
       "    features=FeaturesDict({\n",
       "        'image': Image(shape=(None, None, 3), dtype=uint8),\n",
       "        'label': ClassLabel(shape=(), dtype=int64, num_classes=5),\n",
       "    }),\n",
       "    supervised_keys=('image', 'label'),\n",
       "    disable_shuffling=False,\n",
       "    splits={\n",
       "        'train': <SplitInfo num_examples=3670, num_shards=2>,\n",
       "    },\n",
       "    citation=\"\"\"@ONLINE {tfflowers,\n",
       "    author = \"The TensorFlow Team\",\n",
       "    title = \"Flowers\",\n",
       "    month = \"jan\",\n",
       "    year = \"2019\",\n",
       "    url = \"http://download.tensorflow.org/example_images/flower_photos.tgz\" }\"\"\",\n",
       ")"
      ]
     },
     "execution_count": 2,
     "metadata": {},
     "output_type": "execute_result"
    }
   ],
   "source": [
    "import tensorflow_datasets as tfds\n",
    "import tensorflow as tf \n",
    "import matplotlib.pyplot as plt \n",
    "import numpy as np \n",
    "import pandas as pd \n",
    "\n",
    "(train, test), info = tfds.load(\n",
    "    \"tf_flowers\",\n",
    "    split=[\"train[:80%]\", \"train[80%:]\"],\n",
    "    as_supervised=True,\n",
    "    with_info= True\n",
    ")\n",
    "\n",
    "info"
   ]
  }
 ],
 "metadata": {
  "kernelspec": {
   "display_name": "venv",
   "language": "python",
   "name": "python3"
  },
  "language_info": {
   "codemirror_mode": {
    "name": "ipython",
    "version": 3
   },
   "file_extension": ".py",
   "mimetype": "text/x-python",
   "name": "python",
   "nbconvert_exporter": "python",
   "pygments_lexer": "ipython3",
   "version": "3.11.7"
  }
 },
 "nbformat": 4,
 "nbformat_minor": 2
}
