{
 "cells": [
  {
   "cell_type": "markdown",
   "metadata": {},
   "source": [
    "<div style=\"max-width:66ch;\">\n",
    "\n",
    "# Exercise - AI intro\n",
    "\n",
    "---\n",
    "These are introductory exercises in AI theory with focus in **terminology** and **concepts**. The purpose of this exercise is to get an overview of field of machine learning and AI. We will introduce these concepts throughout the course.\n",
    "\n",
    "<p class = \"alert alert-info\" role=\"alert\"><b>Note</b> that in cases when you start to repeat code, try not to. Create functions to reuse code instead. </p>\n",
    "\n",
    "<p class = \"alert alert-info\" role=\"alert\"><b>Remember</b> to use <b>descriptive variable, function, index </b> and <b> column names</b> in order to get readable code </p>\n",
    "\n",
    "<p class = \"alert alert-info\" role=\"alert\"><b>Remember</b> to format your input questions in a pedagogical way to guide the user\n",
    "\n",
    "The number of stars (\\*), (\\*\\*), (\\*\\*\\*) denotes the difficulty level of the task\n",
    "\n",
    "---\n",
    "\n",
    "</div>"
   ]
  },
  {
   "cell_type": "markdown",
   "metadata": {},
   "source": [
    "<div style=\"max-width:66ch;\">\n",
    "\n",
    "## 0. Glossary (\\*)\n",
    "\n",
    "You can use an LLM for help and/or search for results online, but try to summarize the meaning in your own words, in order to properly learn the terminologies. I don't expect you to know all of them now, but after this course you should know these and many more by heart.\n",
    "\n",
    "| Terminology                | Meaning                                                                                                  |\n",
    "| :------------------------- | -------------------------------------------------------------------------------------------------------- |\n",
    "| supervised learning        | Model learns from labeled data to make predictions.                                                       |\n",
    "| unsupervised learning      | Model learns patterns from unlabeled data.                                                                |\n",
    "| machine learning           | Computers learn from data to make decisions or predictions.                                               |\n",
    "| deep learning              | Subset of ML using neural networks for complex tasks.                                                      |\n",
    "| pattern recognition        | Identifying patterns or features in data.                                                                 |\n",
    "| reinforcement learning     | Learning by interacting with an environment and receiving feedback.                                        |\n",
    "| data science               | Extracting insights from data using scientific methods.                                                    |\n",
    "| data engineering           | Preparing and managing data for analysis.                                                                  |\n",
    "| computer vision            | Teaching computers to interpret visual information.                                                        |\n",
    "| algorithm                  | Step-by-step procedure for solving problems.                                                              |\n",
    "| bias                       | Systematic error in predictions due to assumptions or data collection.                                     |\n",
    "| variance                   | Variability in predictions due to fluctuations in training data.                                           |\n",
    "| overfitting                | Model captures noise instead of underlying patterns.                                                      |\n",
    "| underfitting               | Model is too simple to capture data patterns.                                                             |\n",
    "| gradient descent           | Optimization algorithm to minimize loss.                                                                  |\n",
    "| transfer learning          | Adapting a model trained on one task to another task.                                                      |\n",
    "| regression                 | Predicting numerical values.                                                                              |\n",
    "| classification             | Predicting categories or labels.                                                                          |\n",
    "| artificial neural networks | Computing systems inspired by brain neurons.                                                              |\n",
    "| data augmentation          | Increasing dataset size/diversity with transformations.                                                   |\n",
    "| synthetic data             | Artificially generated data mimicking real-world distributions.                                            |\n",
    "| regularization             | Techniques to prevent overfitting.                                                                       |\n",
    "| perceptron                 | Simplest form of neural network.                                                                          |\n",
    "| qualitative data           | Non-numeric data describing qualities.                                                                   |\n",
    "| quantitative data          | Numeric data expressing quantities.                                                                      |\n",
    "| independent variable       | Variable causing changes in another variable.                                                            |\n",
    "| dependent variable         | Variable influenced by changes in another variable.                                                       |\n",
    "| label                      | Tag or category assigned to data instance.                                                                |\n",
    "\n",
    "\n",
    "</div>\n"
   ]
  },
  {
   "cell_type": "markdown",
   "metadata": {},
   "source": [
    "<div style=\"max-width:66ch;\">\n",
    "\n",
    "---\n",
    "\n",
    "## 1. Machine learning, deep learning and AI\n",
    "\n",
    "Draw an illustration of how machine learning, deep learning and artificial intelligence relate to each other and explain it with your own words.\n",
    "\n",
    "</div>\n"
   ]
  },
  {
   "cell_type": "markdown",
   "metadata": {},
   "source": [
    "<div style=\"max-width:66ch;\">\n",
    "\n",
    "---\n",
    "\n",
    "## 2. Regression and classification\n",
    "\n",
    "What is the main difference between regression and classification? \n",
    "\n",
    "&nbsp; a) Give an example of a problem that can be solved with regression. \n",
    "**Predicting house prices based on various features.**\n",
    "\n",
    "&nbsp; b) Give an example of a problem that can be solved with classification.\n",
    "**Classifying emails as spam or not spam based on their content.**\n",
    "\n",
    "\n",
    "The main difference between regression and classification lies in the nature of the output they produce.\n",
    "\n",
    "Regression deals with predicting a continuous value. It aims to establish a relationship between input variables and a continuous output variable. For example, predicting house prices based on features like size, location, number of bedrooms, etc., is a regression problem.\n",
    "\n",
    "Classification, on the other hand, deals with predicting a categorical label or class. It categorizes data into different classes or groups based on certain features. For instance, spam email detection is a classification problem where emails are categorized as either spam or not spam based on various features like keywords, sender information, etc.\n",
    "\n",
    "</div>\n"
   ]
  },
  {
   "cell_type": "markdown",
   "metadata": {},
   "source": [
    "<div style=\"max-width:66ch;\">\n",
    "\n",
    "---\n",
    "\n",
    "## 3. Scaling data (\\*)\n",
    "\n",
    "What does scaling data mean, and why do some machine learning algorithm require data to be scaled? \n",
    "**Scaling data involves adjusting the range of values of features to make them comparable. Some machine learning algorithms require scaled data to ensure equal feature contributions, faster convergence, improved model performance, and accurate distance calculations. Common scaling methods include normalization and standardization.**\n",
    "</div>\n"
   ]
  },
  {
   "cell_type": "markdown",
   "metadata": {},
   "source": [
    "<div style=\"max-width:66ch;\">\n",
    "\n",
    "---\n",
    "\n",
    "## 4. Train|test split (\\*)\n",
    "\n",
    "What is the purpose to split the data into a training part and a test part? \n",
    "**Splitting the data into training and test sets helps evaluate how well a machine learning model generalizes to new, unseen data. It prevents overfitting, allows for tuning model parameters, and assesses the model's real-world performance.**\n",
    "\n",
    "</div>\n"
   ]
  },
  {
   "cell_type": "markdown",
   "metadata": {},
   "source": [
    "<div style=\"max-width:66ch;\">\n",
    "\n",
    "---\n",
    "\n",
    "## 5. Data leakage (\\*)\n",
    "\n",
    "What is data leakage, why is it bad and how can you avoid it?\n",
    "**Data leakage occurs when information from outside the training dataset is used to create a model, leading to overly optimistic performance metrics. It's bad because it results in models that perform poorly on new data. To avoid it, ensure strict separation of training and test data, be cautious during feature engineering, and use cross-validation for evaluation.**\n",
    "</div>\n"
   ]
  },
  {
   "cell_type": "markdown",
   "metadata": {},
   "source": [
    "<div style=\"max-width:66ch;\">\n",
    "\n",
    "---\n",
    "## 6. Cross-validation (\\*)\n",
    "\n",
    "How does cross-validation work, and when is it good to use cross-validation?\n",
    "**Cross-validation involves splitting the data into multiple subsets, training the model on a subset, and validating it on the remaining data. It's good to use when you have limited data or want to assess model performance without relying on a single train-test split, helping to obtain a more robust estimate of performance.**\n",
    "\n",
    "</div>\n"
   ]
  },
  {
   "cell_type": "markdown",
   "metadata": {},
   "source": [
    "<div style=\"max-width:66ch;\">\n",
    "\n",
    "---\n",
    "\n",
    "## 7. Confusion matrix (\\*)\n",
    "\n",
    "When can you and should you use a confusion matrix? \n",
    "**Confusion matrices help in assessing model accuracy, identifying areas of improvement, and determining the presence of class imbalances or misclassifications. They are especially valuable when you need to dive deeper into the performance of a classifier beyond simple accuracy metrics.**\n",
    "\n",
    "---\n",
    "\n",
    "</div>\n"
   ]
  },
  {
   "cell_type": "markdown",
   "metadata": {},
   "source": [
    "<div style=\"width: 66ch;\">\n",
    "\n",
    "\n",
    "</div>"
   ]
  },
  {
   "cell_type": "markdown",
   "metadata": {},
   "source": [
    "<div style=\"background-color: #FFF; color: #212121; border-radius: 20px; width:25ch; box-shadow: rgba(0, 0, 0, 0.16) 0px 1px 4px; display: flex; justify-content: center; align-items: center;\">\n",
    "<div style=\"padding: 1em; width: 60%;\">\n",
    "    <h2 style=\"font-size: 1.2rem;\">Kokchun Giang</h2>\n",
    "    <a href=\"https://www.linkedin.com/in/kokchungiang/\" target=\"_blank\" style=\"display: flex; align-items: center; gap: .4em; color:#0A66C2;\">\n",
    "        <img src=\"https://content.linkedin.com/content/dam/me/business/en-us/amp/brand-site/v2/bg/LI-Bug.svg.original.svg\" width=\"20\"> \n",
    "        LinkedIn profile\n",
    "    </a>\n",
    "    <a href=\"https://github.com/kokchun/Portfolio-Kokchun-Giang\" target=\"_blank\" style=\"display: flex; align-items: center; gap: .4em; margin: 1em 0; color:#0A66C2;\">\n",
    "        <img src=\"https://github.githubassets.com/images/modules/logos_page/GitHub-Mark.png\" width=\"20\"> \n",
    "        Github portfolio\n",
    "    </a>\n",
    "    <span>AIgineer AB</span>\n",
    "    <div>\n",
    "</div>"
   ]
  }
 ],
 "metadata": {
  "kernelspec": {
   "display_name": "Python 3.9.6 64-bit",
   "language": "python",
   "name": "python3"
  },
  "language_info": {
   "codemirror_mode": {
    "name": "ipython",
    "version": 3
   },
   "file_extension": ".py",
   "mimetype": "text/x-python",
   "name": "python",
   "nbconvert_exporter": "python",
   "pygments_lexer": "ipython3",
   "version": "3.9.9"
  },
  "orig_nbformat": 4,
  "vscode": {
   "interpreter": {
    "hash": "0da836a34428266995a795f1e1e27b816fa1c02f148d9728b3fbbbc5459afca6"
   }
  }
 },
 "nbformat": 4,
 "nbformat_minor": 2
}
