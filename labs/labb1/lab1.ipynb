{
 "cells": [
  {
   "cell_type": "code",
   "execution_count": 22,
   "metadata": {},
   "outputs": [],
   "source": [
    "# Uppgift 1)\n",
    "\n",
    "import pandas as pd\n",
    "from scipy.sparse import csr_matrix\n",
    "\n",
    "\n",
    "movies=\"../../data/ml-latest-small/movies.csv\"\n",
    "ratings=\"../../data/ml-latest-small/ratings.csv\"\n",
    "\n",
    "df_movies = pd.read_csv(movies, usecols=[\"movieId\", \"title\"], dtype={\"movieId\":\"int32\", \"title\":\"str\"})\n",
    "df_ratings = pd.read_csv(ratings, usecols=[\"userId\",\"movieId\",\"rating\"], dtype={\"userId\":\"int32\", \"movieId\":\"int32\", \"rating\":\"float32\"})"
   ]
  },
  {
   "cell_type": "code",
   "execution_count": 23,
   "metadata": {},
   "outputs": [],
   "source": [
    "#Spare Matrix\n",
    "\n",
    "movies_users = df_ratings.pivot(index = \"movieId\", columns = \"userId\", values= \"rating\").fillna(0)\n",
    "mat_movies_users=csr_matrix(movies_users.values)"
   ]
  }
 ],
 "metadata": {
  "kernelspec": {
   "display_name": "venv",
   "language": "python",
   "name": "python3"
  },
  "language_info": {
   "codemirror_mode": {
    "name": "ipython",
    "version": 3
   },
   "file_extension": ".py",
   "mimetype": "text/x-python",
   "name": "python",
   "nbconvert_exporter": "python",
   "pygments_lexer": "ipython3",
   "version": "3.11.7"
  }
 },
 "nbformat": 4,
 "nbformat_minor": 2
}
